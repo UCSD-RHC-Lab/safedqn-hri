{
 "cells": [
  {
   "cell_type": "code",
   "execution_count": 1,
   "metadata": {},
   "outputs": [],
   "source": [
    "import sys\n",
    "sys.path.append('../')\n",
    "import random\n",
    "import numpy as np\n",
    "import pandas as pd\n",
    "from time import sleep\n",
    "import numpy as np\n",
    "import gym\n",
    "import csv\n",
    "from collections import defaultdict\n",
    "import os\n",
    "import argparse\n",
    "import matplotlib.pyplot as plt\n",
    "import maps"
   ]
  },
  {
   "cell_type": "code",
   "execution_count": 2,
   "metadata": {},
   "outputs": [],
   "source": [
    "# Set OpenAI Environment\n",
    "ENV_NAME = 'ed_grid:ed-grid-v0'\n",
    "env = gym.make(ENV_NAME)\n",
    "env.SetExplorationEnvironment()\n",
    "\n",
    "# Set params\n",
    "mode = 'test'#'train'\n",
    "map_number = 4\n",
    "output_filename = mode+'_map'+str(map_number)+'_config.csv'\n",
    "num_high_acuity_patients = 5\n",
    "num_low_acuity_patients = 5\n",
    "num_configurations = 10\n",
    "ed_dataset_df = 'ed_dataset_dataframe.csv'\n",
    "\n",
    "# Initialization\n",
    "high_acuity_videos = []\n",
    "low_acuity_videos = []"
   ]
  },
  {
   "cell_type": "code",
   "execution_count": 3,
   "metadata": {},
   "outputs": [],
   "source": [
    "# Read ED Dataset Dataframe\n",
    "if(ed_dataset_df is not None):\n",
    "    ed_dataset_df = pd.read_csv(ed_dataset_df)\n",
    "#print(ed_dataset_df.head())"
   ]
  },
  {
   "cell_type": "markdown",
   "metadata": {},
   "source": [
    "# Optical Flow "
   ]
  },
  {
   "cell_type": "code",
   "execution_count": 4,
   "metadata": {},
   "outputs": [],
   "source": [
    "high_acuity_of_df = ed_dataset_df[ed_dataset_df['low_high_acuity_of']==1]\n",
    "low_acuity_of_df = ed_dataset_df[ed_dataset_df['low_high_acuity_of']==0]"
   ]
  },
  {
   "cell_type": "code",
   "execution_count": 5,
   "metadata": {},
   "outputs": [],
   "source": [
    "# Configure Random Map Positions of teams \n",
    "def SetMapPositions(num_high_acuity, num_low_acuity,map_number):\n",
    "    clin_row, clin_col, non_clin_row, non_clin_col = [], [], [], []\n",
    "    for i in range(num_high_acuity):\n",
    "        env.reset_env(map_num=map_number)\n",
    "        for (row, col) in env.team_locs:\n",
    "            #print(row,col)\n",
    "            clin_row.append(row)\n",
    "            clin_col.append(col)\n",
    "            if(len(clin_row)>num_high_acuity):\n",
    "                break\n",
    "        if(len(clin_row)>=num_high_acuity):\n",
    "                break\n",
    "    for i in range(num_low_acuity):\n",
    "        for (row, col) in env.other_team_locs:\n",
    "            non_clin_row.append(row)\n",
    "            non_clin_col.append(col)\n",
    "            if(len(non_clin_row)>num_low_acuity):\n",
    "                break\n",
    "        if(len(non_clin_row)>=num_low_acuity):\n",
    "                break\n",
    "    return clin_row, clin_col, non_clin_row, non_clin_col"
   ]
  },
  {
   "cell_type": "code",
   "execution_count": 6,
   "metadata": {},
   "outputs": [
    {
     "name": "stdout",
     "output_type": "stream",
     "text": [
      "[7, 2, 8, 7, 9] [2, 0, 0, 7, 2] [6, 11, 3, 6, 9] [9, 2, 2, 10, 9]\n",
      "[7, 2, 8, 7, 9, 6, 11, 3, 6, 9]\n"
     ]
    }
   ],
   "source": [
    "ha_row, ha_col, la_row, la_col = SetMapPositions(num_high_acuity_patients, num_low_acuity_patients,map_number)\n",
    "print(ha_row, ha_col, la_row, la_col)\n",
    "print(ha_row+la_row)"
   ]
  },
  {
   "cell_type": "code",
   "execution_count": 7,
   "metadata": {},
   "outputs": [],
   "source": [
    "def get_acuity(optical_flow,max_num_people,num_high_acuity_patients,num_low_acuity_patients):\n",
    "    acuity_score = []\n",
    "    for of, num_people in zip(optical_flow,max_num_people):\n",
    "        ac = of*(num_people/(1+num_high_acuity_patients+num_low_acuity_patients))\n",
    "        acuity_score.append(ac)\n",
    "    min_as_of=min(acuity_score)\n",
    "    max_as_of=max(acuity_score)\n",
    "    acuity_score = [((i-min_as_of)/(max_as_of-min_as_of)) for i in acuity_score]\n",
    "    return acuity_score"
   ]
  },
  {
   "cell_type": "code",
   "execution_count": 8,
   "metadata": {},
   "outputs": [],
   "source": [
    "video_name = []\n",
    "segment_number = []\n",
    "rows = []\n",
    "cols = []\n",
    "acuity_score = []\n",
    "config_num = []\n",
    "robot_row = []\n",
    "robot_col = []\n",
    "optical_flow = []\n",
    "max_num_people = []\n",
    "\n",
    "for i in range(num_configurations):\n",
    "    optical_flow_local = []\n",
    "    max_num_people_local = []\n",
    "    \n",
    "    # Generate Robot row-col\n",
    "    env.GenerateRobotLocation()\n",
    "    [(r_row,r_col)] = env.robot_loc\n",
    "    \n",
    "    # Patient rows and cols\n",
    "    ha_row, ha_col, la_row, la_col = SetMapPositions(num_high_acuity_patients, num_low_acuity_patients,map_number)\n",
    "    for r in ha_row+la_row:\n",
    "        rows.append(r)\n",
    "    for c in ha_col+la_col:\n",
    "        cols.append(c)\n",
    "        \n",
    "    high_acuity_idx = [random.randint(0,len(high_acuity_of_df)-1) \n",
    "                                for i in range(num_high_acuity_patients)]\n",
    "    low_acuity_idx = [random.randint(0,len(low_acuity_of_df)-1) \n",
    "                                for i in range(num_low_acuity_patients)]\n",
    "    for h in high_acuity_idx:\n",
    "        optical_flow_local.append(high_acuity_of_df.iloc[h]['optical_flow_norm'])\n",
    "        max_num_people_local.append(high_acuity_of_df.iloc[h]['max_num_people'])\n",
    "        segment_number.append(high_acuity_of_df.iloc[h]['segment_number'])        \n",
    "        video_name.append(high_acuity_of_df.iloc[h]['video_names'])\n",
    "        robot_row.append(r_row)\n",
    "        robot_col.append(r_col)\n",
    "        config_num.append(i)\n",
    "        \n",
    "    for l in low_acuity_idx:\n",
    "        optical_flow_local.append(low_acuity_of_df.iloc[l]['optical_flow_norm'])\n",
    "        max_num_people_local.append(low_acuity_of_df.iloc[l]['max_num_people'])\n",
    "        segment_number.append(low_acuity_of_df.iloc[l]['segment_number'])        \n",
    "        video_name.append(low_acuity_of_df.iloc[l]['video_names'])\n",
    "        robot_row.append(r_row)\n",
    "        robot_col.append(r_col)\n",
    "        config_num.append(i)\n",
    "    optical_flow.append([i for i in optical_flow_local])\n",
    "    max_num_people.append([i for i in max_num_people_local])\n",
    "    acuity_list = get_acuity(optical_flow_local,max_num_people_local,num_high_acuity_patients,num_low_acuity_patients)\n",
    "    acuity_score.append([i for i in acuity_list])\n",
    "    \n",
    "\n",
    "optical_flow = [item for sublist in optical_flow for item in sublist]\n",
    "max_num_people = [item for sublist in max_num_people for item in sublist]\n",
    "acuity_score = [item for sublist in acuity_score for item in sublist]"
   ]
  },
  {
   "cell_type": "code",
   "execution_count": 9,
   "metadata": {},
   "outputs": [
    {
     "name": "stdout",
     "output_type": "stream",
     "text": [
      "100\n",
      "100\n",
      "100\n",
      "100\n",
      "100\n",
      "100\n",
      "100\n",
      "100\n",
      "100\n",
      "100\n"
     ]
    }
   ],
   "source": [
    "print(len(video_name))\n",
    "print(len(optical_flow))\n",
    "print(len(max_num_people))\n",
    "print(len(segment_number))\n",
    "print(len(acuity_score))\n",
    "print(len(robot_col))\n",
    "print(len(robot_row))\n",
    "print(len(config_num))\n",
    "print(len(rows))\n",
    "print(len(cols))"
   ]
  },
  {
   "cell_type": "code",
   "execution_count": 10,
   "metadata": {},
   "outputs": [
    {
     "name": "stdout",
     "output_type": "stream",
     "text": [
      "Saving map config to optical_flow_test_map4_config.csv\n"
     ]
    }
   ],
   "source": [
    "# Export data into pandas dataframe\n",
    "data = {'video_name':video_name,\n",
    "        'optical_flow':optical_flow,\n",
    "        'max_num_people':max_num_people,\n",
    "        'segment_number':segment_number,\n",
    "        'acuity_score':acuity_score,\n",
    "        'robot_col':robot_col,\n",
    "        'robot_row':robot_row,\n",
    "        'config_num':config_num,\n",
    "        'row':rows,\n",
    "        'col':cols}\n",
    " \n",
    "# Create DataFrame\n",
    "optical_flow_df = pd.DataFrame(data)\n",
    " \n",
    "# Print the output.\n",
    "#print(df)\n",
    "\n",
    "# Save dataframe\n",
    "if(not os.path.exists('./map_config/')):\n",
    "    os.makedirs('./map_config/')\n",
    "optical_flow_df.to_csv('./map_config/optical_flow_'+output_filename)\n",
    "print('Saving map config to optical_flow_'+output_filename)"
   ]
  },
  {
   "cell_type": "code",
   "execution_count": null,
   "metadata": {},
   "outputs": [],
   "source": []
  },
  {
   "cell_type": "code",
   "execution_count": null,
   "metadata": {},
   "outputs": [],
   "source": []
  },
  {
   "cell_type": "code",
   "execution_count": null,
   "metadata": {},
   "outputs": [],
   "source": []
  }
 ],
 "metadata": {
  "kernelspec": {
   "display_name": "Python 3",
   "language": "python",
   "name": "python3"
  },
  "language_info": {
   "codemirror_mode": {
    "name": "ipython",
    "version": 3
   },
   "file_extension": ".py",
   "mimetype": "text/x-python",
   "name": "python",
   "nbconvert_exporter": "python",
   "pygments_lexer": "ipython3",
   "version": "3.6.4"
  }
 },
 "nbformat": 4,
 "nbformat_minor": 2
}
